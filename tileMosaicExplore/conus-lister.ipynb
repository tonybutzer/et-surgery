{
 "cells": [
  {
   "cell_type": "code",
   "execution_count": 5,
   "id": "50d39083",
   "metadata": {},
   "outputs": [
    {
     "name": "stdout",
     "output_type": "stream",
     "text": [
      "2021-12-28 21:44:24 2253216272 etasw_202005.tif\r\n"
     ]
    }
   ],
   "source": [
    "! aws s3 ls ws-enduser/USA/conus_mos/2020/etasw_202005.tif"
   ]
  },
  {
   "cell_type": "code",
   "execution_count": 6,
   "id": "b0e01cec",
   "metadata": {},
   "outputs": [
    {
     "name": "stdout",
     "output_type": "stream",
     "text": [
      "download: s3://ws-enduser/USA/conus_mos/2020/etasw_202005.tif to ./etasw_202005.tif\n"
     ]
    }
   ],
   "source": [
    "! aws s3 cp s3://ws-enduser/USA/conus_mos/2020/etasw_202005.tif ."
   ]
  },
  {
   "cell_type": "markdown",
   "id": "1cc511de",
   "metadata": {},
   "source": [
    "('USA/r50.0_tile7/2020/etasw_202008.tif', 'USA/conus_mos/2020/etasw_202008.tif')"
   ]
  },
  {
   "cell_type": "code",
   "execution_count": 9,
   "id": "5994fdb3",
   "metadata": {},
   "outputs": [
    {
     "name": "stdout",
     "output_type": "stream",
     "text": [
      "{\r\n",
      "    \"blockxsize\": 512,\r\n",
      "    \"blockysize\": 512,\r\n",
      "    \"bounds\": [\r\n",
      "        -99.00027430748597,\r\n",
      "        50.00000229741505,\r\n",
      "        -85.99815885751397,\r\n",
      "        36.99996718591505\r\n",
      "    ],\r\n",
      "    \"colorinterp\": [\r\n",
      "        \"gray\"\r\n",
      "    ],\r\n",
      "    \"compress\": \"deflate\",\r\n",
      "    \"count\": 1,\r\n",
      "    \"crs\": \"EPSG:4326\",\r\n",
      "    \"descriptions\": [\r\n",
      "        \"etasw_\"\r\n",
      "    ],\r\n",
      "    \"driver\": \"GTiff\",\r\n",
      "    \"dtype\": \"float64\",\r\n",
      "    \"height\": 6247,\r\n",
      "    \"indexes\": [\r\n",
      "        1\r\n",
      "    ],\r\n",
      "    \"interleave\": \"band\",\r\n",
      "    \"lnglat\": [\r\n",
      "        -92.49921658249997,\r\n",
      "        43.499984741665045\r\n",
      "    ],\r\n",
      "    \"mask_flags\": [\r\n",
      "        [\r\n",
      "            \"nodata\"\r\n",
      "        ]\r\n",
      "    ],\r\n",
      "    \"nodata\": NaN,\r\n",
      "    \"res\": [\r\n",
      "        0.0020803384719955188,\r\n",
      "        -0.002081004500000001\r\n",
      "    ],\r\n",
      "    \"shape\": [\r\n",
      "        6247,\r\n",
      "        6250\r\n",
      "    ],\r\n",
      "    \"tiled\": true,\r\n",
      "    \"transform\": [\r\n",
      "        0.0020803384719955188,\r\n",
      "        0.0,\r\n",
      "        -99.00027430748597,\r\n",
      "        0.0,\r\n",
      "        0.002081004500000001,\r\n",
      "        36.99996718591505,\r\n",
      "        0.0,\r\n",
      "        0.0,\r\n",
      "        1.0\r\n",
      "    ],\r\n",
      "    \"units\": [\r\n",
      "        null\r\n",
      "    ],\r\n",
      "    \"width\": 6250\r\n",
      "}\r\n"
     ]
    }
   ],
   "source": [
    "! rio info s3://ws-enduser/USA/r50.0_tile7/2020/etasw_202008.tif | python3 -m json.tool"
   ]
  },
  {
   "cell_type": "code",
   "execution_count": 10,
   "id": "0be1d5a2",
   "metadata": {},
   "outputs": [
    {
     "name": "stdout",
     "output_type": "stream",
     "text": [
      "{\r\n",
      "    \"blockxsize\": 512,\r\n",
      "    \"blockysize\": 512,\r\n",
      "    \"bounds\": [\r\n",
      "        -125.00017109959647,\r\n",
      "        49.99966412471042,\r\n",
      "        -59.998262065403466,\r\n",
      "        22.999307082619683\r\n",
      "    ],\r\n",
      "    \"colorinterp\": [\r\n",
      "        \"gray\"\r\n",
      "    ],\r\n",
      "    \"compress\": \"deflate\",\r\n",
      "    \"count\": 1,\r\n",
      "    \"crs\": \"EPSG:4326\",\r\n",
      "    \"descriptions\": [\r\n",
      "        \"etasw\"\r\n",
      "    ],\r\n",
      "    \"driver\": \"GTiff\",\r\n",
      "    \"dtype\": \"float64\",\r\n",
      "    \"height\": 19222,\r\n",
      "    \"indexes\": [\r\n",
      "        1\r\n",
      "    ],\r\n",
      "    \"interleave\": \"band\",\r\n",
      "    \"lnglat\": [\r\n",
      "        -92.49921658249997,\r\n",
      "        36.49948560366505\r\n",
      "    ],\r\n",
      "    \"mask_flags\": [\r\n",
      "        [\r\n",
      "            \"nodata\"\r\n",
      "        ]\r\n",
      "    ],\r\n",
      "    \"nodata\": NaN,\r\n",
      "    \"res\": [\r\n",
      "        0.001733476693002107,\r\n",
      "        -0.0014046590907340931\r\n",
      "    ],\r\n",
      "    \"shape\": [\r\n",
      "        19222,\r\n",
      "        37498\r\n",
      "    ],\r\n",
      "    \"tiled\": true,\r\n",
      "    \"transform\": [\r\n",
      "        0.001733476693002107,\r\n",
      "        0.0,\r\n",
      "        -125.00017109959647,\r\n",
      "        0.0,\r\n",
      "        0.0014046590907340931,\r\n",
      "        22.999307082619683,\r\n",
      "        0.0,\r\n",
      "        0.0,\r\n",
      "        1.0\r\n",
      "    ],\r\n",
      "    \"units\": [\r\n",
      "        null\r\n",
      "    ],\r\n",
      "    \"width\": 37498\r\n",
      "}\r\n"
     ]
    }
   ],
   "source": [
    "! rio info s3://ws-enduser/USA/conus_mos/2020/etasw_202008.tif | python3 -m json.tool"
   ]
  },
  {
   "cell_type": "code",
   "execution_count": null,
   "id": "b3c06813",
   "metadata": {},
   "outputs": [],
   "source": []
  }
 ],
 "metadata": {
  "kernelspec": {
   "display_name": "Python 3 (ipykernel)",
   "language": "python",
   "name": "python3"
  },
  "language_info": {
   "codemirror_mode": {
    "name": "ipython",
    "version": 3
   },
   "file_extension": ".py",
   "mimetype": "text/x-python",
   "name": "python",
   "nbconvert_exporter": "python",
   "pygments_lexer": "ipython3",
   "version": "3.9.7"
  }
 },
 "nbformat": 4,
 "nbformat_minor": 5
}
