{
 "cells": [
  {
   "cell_type": "code",
   "execution_count": null,
   "id": "13593531",
   "metadata": {},
   "outputs": [],
   "source": [
    "import rioxarray\n",
    "\n",
    "#See docs for rioxarray.open_rasterio\n",
    "\n",
    "rds = rioxarray.open_rasterio('./r50.0_tile7.tif')\n",
    "rds"
   ]
  },
  {
   "cell_type": "code",
   "execution_count": null,
   "id": "9c71f2ad",
   "metadata": {},
   "outputs": [],
   "source": [
    "import hvplot.xarray\n",
    "rds.hvplot.image(rasterize=True,  x='x', y='y', width=500, height=400, cmap='viridis', clim=(1,255))"
   ]
  },
  {
   "cell_type": "code",
   "execution_count": null,
   "id": "76ea2115",
   "metadata": {},
   "outputs": [],
   "source": [
    "s3_file_obj = 's3://ws-enduser/USA/r50.0_tile7/2020/etasw_202005.tif'\n",
    "\n",
    "rds1 = rioxarray.open_rasterio(s3_file_obj)\n"
   ]
  },
  {
   "cell_type": "code",
   "execution_count": null,
   "id": "d80c89d8",
   "metadata": {},
   "outputs": [],
   "source": [
    "rds1.hvplot.image(rasterize=True,  x='x', y='y', width=500, height=400, cmap='viridis', clim=(1,255))"
   ]
  },
  {
   "cell_type": "markdown",
   "id": "4e51ad5d",
   "metadata": {},
   "source": [
    "https://www.geeksforgeeks.org/find-the-nearest-value-and-the-index-of-numpy-array/"
   ]
  },
  {
   "cell_type": "code",
   "execution_count": null,
   "id": "15a02296",
   "metadata": {},
   "outputs": [],
   "source": [
    "import numpy as np\n",
    "\n",
    "def get_xy_index(xfind, yfind, xlons, ylats):\n",
    "    arr = xlons\n",
    "    print(\"Array is : \", arr)\n",
    "\n",
    "    # element to which nearest value is to be found\n",
    "    x = xfind\n",
    "    print(\"Value to which nearest element is to be found: \", x)\n",
    "\n",
    "    # calculate the difference array\n",
    "    difference_array = np.absolute(arr-x)\n",
    "\n",
    "    # find the index of minimum element from the array\n",
    "    index = difference_array.argmin()\n",
    "    print(\"Nearest element to the given values is : \", arr[index])\n",
    "    print(\"Index of nearest value is : \", index)\n",
    "    x_index = index\n",
    "    \n",
    "    arr = ylats\n",
    "    print(\"Array is : \", arr)\n",
    "  \n",
    "    # element to which nearest value is to be found\n",
    "    x = yfind\n",
    "    print(\"Value to which nearest element is to be found: \", x)\n",
    "\n",
    "    # calculate the difference array\n",
    "    difference_array = np.absolute(arr-x)\n",
    "\n",
    "    # find the index of minimum element from the array\n",
    "    index = difference_array.argmin()\n",
    "    print(\"Nearest element to the given values is : \", arr[index])\n",
    "    print(\"Index of nearest value is : \", index)\n",
    "    y_index = index\n",
    "\n",
    "    return(x_index, y_index)\n"
   ]
  },
  {
   "cell_type": "code",
   "execution_count": null,
   "id": "2d823dcd",
   "metadata": {},
   "outputs": [],
   "source": [
    "xlons = rds.x.values\n",
    "ylats = rds.y.values\n",
    "\n",
    "xfind=-91.262\n",
    "yfind=39.74\n",
    "x_index,y_index = get_xy_index(xfind, yfind, xlons, ylats)\n"
   ]
  },
  {
   "cell_type": "code",
   "execution_count": null,
   "id": "f350f87e",
   "metadata": {},
   "outputs": [],
   "source": [
    "my_arr=rds.values\n",
    "my_arr.shape"
   ]
  },
  {
   "cell_type": "code",
   "execution_count": null,
   "id": "458726d5",
   "metadata": {},
   "outputs": [],
   "source": [
    "for x in range(x_index,x_index+200):\n",
    "    for y in range(y_index,y_index+200):\n",
    "        my_arr[0][x,y] = 88"
   ]
  },
  {
   "cell_type": "code",
   "execution_count": null,
   "id": "e0c9d62c",
   "metadata": {},
   "outputs": [],
   "source": [
    "for x in range(0,x_index+200):\n",
    "    for y in range(0,y_index):\n",
    "        my_arr[0][x,y] = 88"
   ]
  },
  {
   "cell_type": "code",
   "execution_count": null,
   "id": "45c5c1fc",
   "metadata": {},
   "outputs": [],
   "source": [
    "x_index"
   ]
  },
  {
   "cell_type": "code",
   "execution_count": null,
   "id": "df556253",
   "metadata": {},
   "outputs": [],
   "source": [
    "y_index"
   ]
  },
  {
   "cell_type": "code",
   "execution_count": null,
   "id": "f4ca2a33",
   "metadata": {},
   "outputs": [],
   "source": [
    "my_arr"
   ]
  },
  {
   "cell_type": "code",
   "execution_count": null,
   "id": "b04b0cf8",
   "metadata": {},
   "outputs": [],
   "source": [
    "rds[:]=my_arr"
   ]
  },
  {
   "cell_type": "code",
   "execution_count": null,
   "id": "d4320d39",
   "metadata": {},
   "outputs": [],
   "source": [
    "rds.hvplot.image(rasterize=True,  x='x', y='y', width=500, height=400, cmap='viridis', clim=(1,255))"
   ]
  },
  {
   "cell_type": "code",
   "execution_count": null,
   "id": "33de122b",
   "metadata": {},
   "outputs": [],
   "source": [
    "xfind=-93.959\n",
    "yfind=39.74\n",
    "x_index,y_index = get_xy_index(xfind, yfind, xlons, ylats)"
   ]
  },
  {
   "cell_type": "code",
   "execution_count": null,
   "id": "dd711c93",
   "metadata": {},
   "outputs": [],
   "source": [
    "for x in range(x_index,x_index+200):\n",
    "    for y in range(y_index,y_index+200):\n",
    "        my_arr[0][x,y] = 88"
   ]
  },
  {
   "cell_type": "code",
   "execution_count": null,
   "id": "344916f6",
   "metadata": {},
   "outputs": [],
   "source": [
    "rds[:]=my_arr"
   ]
  },
  {
   "cell_type": "code",
   "execution_count": null,
   "id": "5c25126a",
   "metadata": {},
   "outputs": [],
   "source": [
    "rds.hvplot.image(rasterize=True,  x='x', y='y', width=500, height=400, cmap='viridis', clim=(1,255))"
   ]
  },
  {
   "cell_type": "code",
   "execution_count": null,
   "id": "2e78367d",
   "metadata": {},
   "outputs": [],
   "source": [
    "xlons = rds.x.values\n",
    "ylats = rds.y.values\n",
    "\n",
    "xfind=-91.262\n",
    "yfind=39.74\n",
    "x_index,y_index = get_xy_index(xfind, yfind, xlons, ylats)"
   ]
  },
  {
   "cell_type": "code",
   "execution_count": null,
   "id": "8735e600",
   "metadata": {},
   "outputs": [],
   "source": [
    "for x in range(x_index,x_index+1000):\n",
    "    for y in range(y_index,y_index+1000):\n",
    "        my_arr[0][x,y] = 250"
   ]
  },
  {
   "cell_type": "code",
   "execution_count": null,
   "id": "fdf510e6",
   "metadata": {},
   "outputs": [],
   "source": [
    "rds[:]=my_arr"
   ]
  },
  {
   "cell_type": "code",
   "execution_count": null,
   "id": "75601ba4",
   "metadata": {},
   "outputs": [],
   "source": [
    "rds.hvplot.image(rasterize=True,  x='x', y='y', width=500, height=400, cmap='viridis', clim=(1,255))"
   ]
  },
  {
   "cell_type": "code",
   "execution_count": null,
   "id": "6dd3776b",
   "metadata": {},
   "outputs": [],
   "source": [
    "rds = rioxarray.open_rasterio('./r50.0_tile7.tif')\n",
    "rds"
   ]
  },
  {
   "cell_type": "code",
   "execution_count": null,
   "id": "4a770887",
   "metadata": {},
   "outputs": [],
   "source": [
    "rds.hvplot.image(rasterize=True,  x='x', y='y', width=500, height=400, cmap='viridis', clim=(1,255))"
   ]
  },
  {
   "cell_type": "code",
   "execution_count": null,
   "id": "243c0205",
   "metadata": {},
   "outputs": [],
   "source": [
    "my_arr = rds.values"
   ]
  },
  {
   "cell_type": "code",
   "execution_count": null,
   "id": "9cf00c34",
   "metadata": {},
   "outputs": [],
   "source": [
    "xfind=-93.959\n",
    "yfind=39.74\n",
    "x_index,y_index = get_xy_index(xfind, yfind, xlons, ylats)"
   ]
  },
  {
   "cell_type": "code",
   "execution_count": null,
   "id": "67d9e829",
   "metadata": {},
   "outputs": [],
   "source": [
    "for x in range(x_index,x_index+1000):\n",
    "    for y in range(y_index,y_index+1000):\n",
    "        my_arr[0][x,y] = 250"
   ]
  },
  {
   "cell_type": "code",
   "execution_count": null,
   "id": "4e40725a",
   "metadata": {},
   "outputs": [],
   "source": [
    "rds[:]=my_arr"
   ]
  },
  {
   "cell_type": "code",
   "execution_count": null,
   "id": "cb584be9",
   "metadata": {},
   "outputs": [],
   "source": [
    "rds"
   ]
  },
  {
   "cell_type": "code",
   "execution_count": null,
   "id": "3590bdbe",
   "metadata": {},
   "outputs": [],
   "source": [
    "rds.hvplot.image(rasterize=True,  x='x', y='y', width=500, height=400, cmap='viridis', clim=(1,255))"
   ]
  },
  {
   "cell_type": "code",
   "execution_count": null,
   "id": "8377d093",
   "metadata": {},
   "outputs": [],
   "source": [
    "xfind=-91.150\n",
    "yfind=42.04\n",
    "xfind=-93.959\n",
    "yfind=39.74\n",
    "x_index,y_index = get_xy_index(xfind, yfind, xlons, ylats)\n",
    "for x in range(x_index,x_index+1000):\n",
    "    for y in range(y_index-1000,y_index):\n",
    "        my_arr[0][x,y] = 250\n",
    "        \n",
    "rds[:] = my_arr\n",
    "\n",
    "rds.hvplot.image(rasterize=True,  x='x', y='y', width=500, height=400, cmap='viridis', clim=(1,255))"
   ]
  },
  {
   "cell_type": "code",
   "execution_count": null,
   "id": "82c12a32",
   "metadata": {},
   "outputs": [],
   "source": [
    "xfind=-86.002\n",
    "yfind=49.99\n",
    "x_index,y_index = get_xy_index(xfind, yfind, xlons, ylats)"
   ]
  },
  {
   "cell_type": "code",
   "execution_count": null,
   "id": "d5135c1f",
   "metadata": {},
   "outputs": [],
   "source": [
    "rds = rioxarray.open_rasterio('./r50.0_tile7.tif')\n",
    "my_arr = rds.values"
   ]
  },
  {
   "cell_type": "code",
   "execution_count": null,
   "id": "ca64a4b0",
   "metadata": {},
   "outputs": [],
   "source": [
    "for x in range(2500,4000):\n",
    "    for y in range(2000,4000):\n",
    "        my_arr[0][y,x]= 250"
   ]
  },
  {
   "cell_type": "code",
   "execution_count": null,
   "id": "6f41b42a",
   "metadata": {},
   "outputs": [],
   "source": [
    "rds[:]=my_arr"
   ]
  },
  {
   "cell_type": "code",
   "execution_count": null,
   "id": "70610cf2",
   "metadata": {},
   "outputs": [],
   "source": [
    "rds.hvplot.image(rasterize=True,  x='x', y='y', width=500, height=400, cmap='viridis', clim=(1,255))"
   ]
  },
  {
   "cell_type": "code",
   "execution_count": null,
   "id": "6f2b8299",
   "metadata": {},
   "outputs": [],
   "source": [
    "xfind=-93.959\n",
    "yfind=39.74\n",
    "x_index,y_index = get_xy_index(xfind, yfind, xlons, ylats)"
   ]
  },
  {
   "cell_type": "code",
   "execution_count": null,
   "id": "4b5aaa18",
   "metadata": {},
   "outputs": [],
   "source": [
    "for x in range(x_index,x_index+1000):\n",
    "    for y in range(y_index,y_index+1000):\n",
    "        my_arr[0][y,x] = 50"
   ]
  },
  {
   "cell_type": "code",
   "execution_count": null,
   "id": "7f38bb1e",
   "metadata": {},
   "outputs": [],
   "source": [
    "rds[:]=my_arr\n",
    "rds.hvplot.image(rasterize=True,  x='x', y='y', width=500, height=400, cmap='viridis', clim=(1,255))"
   ]
  },
  {
   "cell_type": "code",
   "execution_count": null,
   "id": "7ba3e2aa",
   "metadata": {},
   "outputs": [],
   "source": [
    "rds = rioxarray.open_rasterio('./r50.0_tile7.tif')\n",
    "my_arr = rds.values"
   ]
  },
  {
   "cell_type": "code",
   "execution_count": null,
   "id": "9e3643d2",
   "metadata": {},
   "outputs": [],
   "source": [
    "my_arr.shape"
   ]
  },
  {
   "cell_type": "code",
   "execution_count": null,
   "id": "61523ea9",
   "metadata": {},
   "outputs": [],
   "source": [
    "yheight = my_arr.shape[1]"
   ]
  },
  {
   "cell_type": "code",
   "execution_count": null,
   "id": "8568f721",
   "metadata": {},
   "outputs": [],
   "source": [
    "xwidth = my_arr.shape[2]"
   ]
  },
  {
   "cell_type": "code",
   "execution_count": null,
   "id": "a8d90049",
   "metadata": {},
   "outputs": [],
   "source": [
    "! rio info ./r50.0_tile7.tif"
   ]
  },
  {
   "cell_type": "code",
   "execution_count": null,
   "id": "48040f33",
   "metadata": {},
   "outputs": [],
   "source": [
    "iam_broke = False\n",
    "for y in range(0,yheight):\n",
    "    for x in range(0,xwidth):\n",
    "        if np.isnan(my_arr[0][y,x]):\n",
    "            print(y,x)\n",
    "            y_index = y\n",
    "            x_index = x\n",
    "            iam_broke = True\n",
    "            break\n",
    "    if iam_broke:\n",
    "        break\n",
    "    "
   ]
  },
  {
   "cell_type": "code",
   "execution_count": null,
   "id": "2d6ac57f",
   "metadata": {},
   "outputs": [],
   "source": [
    "for x in range(x_index,x_index+1220):\n",
    "    for y in range(y_index,y_index+1230):\n",
    "        my_arr[0][y,x] = 250\n",
    "        \n",
    "rds[:] = my_arr\n",
    "\n",
    "rds.hvplot.image(rasterize=True,  x='x', y='y', width=500, height=400, cmap='viridis', clim=(1,255))"
   ]
  },
  {
   "cell_type": "code",
   "execution_count": null,
   "id": "d7e78e12",
   "metadata": {},
   "outputs": [],
   "source": [
    "for x in range(x_index,x_index+1220):\n",
    "    for y in range(y_index,y_index+1230):\n",
    "        my_arr[0][y,x] = int(y/250*27)\n",
    "        \n",
    "rds[:] = my_arr\n",
    "\n",
    "rds.hvplot.image(rasterize=True,  x='x', y='y', width=500, height=400, cmap='viridis', clim=(1,255))"
   ]
  },
  {
   "cell_type": "code",
   "execution_count": null,
   "id": "7bd618a8",
   "metadata": {},
   "outputs": [],
   "source": []
  }
 ],
 "metadata": {
  "kernelspec": {
   "display_name": "Python 3 (ipykernel)",
   "language": "python",
   "name": "python3"
  },
  "language_info": {
   "codemirror_mode": {
    "name": "ipython",
    "version": 3
   },
   "file_extension": ".py",
   "mimetype": "text/x-python",
   "name": "python",
   "nbconvert_exporter": "python",
   "pygments_lexer": "ipython3",
   "version": "3.9.7"
  }
 },
 "nbformat": 4,
 "nbformat_minor": 5
}
