{
 "cells": [
  {
   "cell_type": "code",
   "execution_count": 1,
   "id": "1b9cbb24",
   "metadata": {},
   "outputs": [
    {
     "name": "stdout",
     "output_type": "stream",
     "text": [
      "                           PRE run_r37.0_tile0/\r\n",
      "                           PRE run_r37.0_tile1/\r\n",
      "                           PRE run_r37.0_tile2/\r\n",
      "                           PRE run_r37.0_tile3/\r\n",
      "                           PRE run_r50.0_tile6/\r\n"
     ]
    }
   ],
   "source": [
    "! aws s3 ls ws-out/USA/Run08_23_2021/"
   ]
  },
  {
   "cell_type": "code",
   "execution_count": 2,
   "id": "7167ad66",
   "metadata": {},
   "outputs": [
    {
     "name": "stdout",
     "output_type": "stream",
     "text": [
      "                           PRE chip25.8N-114.6E/\r\n",
      "                           PRE chip25.8N-117.2E/\r\n",
      "                           PRE chip25.8N-119.8E/\r\n",
      "                           PRE chip25.8N-122.4E/\r\n",
      "                           PRE chip25.8N-125.0E/\r\n",
      "                           PRE chip28.6N-114.6E/\r\n",
      "                           PRE chip28.6N-117.2E/\r\n",
      "                           PRE chip28.6N-119.8E/\r\n",
      "                           PRE chip28.6N-122.4E/\r\n",
      "                           PRE chip28.6N-125.0E/\r\n",
      "                           PRE chip31.4N-114.6E/\r\n",
      "                           PRE chip31.4N-117.2E/\r\n",
      "                           PRE chip31.4N-119.8E/\r\n",
      "                           PRE chip31.4N-122.4E/\r\n",
      "                           PRE chip31.4N-125.0E/\r\n",
      "                           PRE chip34.2N-114.6E/\r\n",
      "                           PRE chip34.2N-117.2E/\r\n",
      "                           PRE chip34.2N-119.8E/\r\n",
      "                           PRE chip34.2N-122.4E/\r\n",
      "                           PRE chip34.2N-125.0E/\r\n",
      "                           PRE chip37.0N-114.6E/\r\n",
      "                           PRE chip37.0N-117.2E/\r\n",
      "                           PRE chip37.0N-119.8E/\r\n",
      "                           PRE chip37.0N-122.4E/\r\n",
      "                           PRE chip37.0N-125.0E/\r\n"
     ]
    }
   ],
   "source": [
    "! aws s3 ls ws-out/USA/Run08_23_2021/run_r37.0_tile0/r37.0_tile0/"
   ]
  },
  {
   "cell_type": "code",
   "execution_count": 3,
   "id": "7cafc000",
   "metadata": {},
   "outputs": [
    {
     "name": "stdout",
     "output_type": "stream",
     "text": [
      "Makefile  Readme.md  etmLib  example.py  list_modules_package.py  setup.py\r\n"
     ]
    }
   ],
   "source": [
    "!ls ../../etm/etmLib"
   ]
  },
  {
   "cell_type": "code",
   "execution_count": 4,
   "id": "1730c35f",
   "metadata": {},
   "outputs": [],
   "source": [
    "#!(cd ../../etm/etmLib; pip install --user .)"
   ]
  },
  {
   "cell_type": "code",
   "execution_count": 5,
   "id": "558ca173",
   "metadata": {},
   "outputs": [
    {
     "name": "stdout",
     "output_type": "stream",
     "text": [
      "cog_func.py    mos_mosaic_class.py  st_status.py\r\n",
      "log_logger.py  s3_func.py\t    xr_mosaic_func.py\r\n"
     ]
    }
   ],
   "source": [
    "!ls ../../etm/etmLib/etmLib"
   ]
  },
  {
   "cell_type": "code",
   "execution_count": 6,
   "id": "20c468a9",
   "metadata": {},
   "outputs": [
    {
     "name": "stdout",
     "output_type": "stream",
     "text": [
      "import os\r\n",
      "import boto3\r\n",
      "\r\n",
      "def s3_hello(person_name):\r\n",
      "    print('Hello There Person:', person_name)\r\n",
      "\r\n",
      "def s3_push_delete_local(local_file, bucket, bucket_filepath):\r\n",
      "        out_bucket = return_my_bucket(bucket_filepath)\r\n",
      "        a = bucket_filepath.split('/')\r\n",
      "        bucket_filepath = '/'.join(a[1:]) # strip bucket from path\r\n",
      "        print('PUSH', out_bucket, bucket_filepath)\r\n",
      "        s3 = boto3.client('s3')\r\n",
      "        with open(local_file, \"rb\") as f:\r\n",
      "            s3.upload_fileobj(f, out_bucket, bucket_filepath)\r\n",
      "        os.remove(local_file)\r\n",
      "\r\n",
      "def return_s3_list(working_bucket, prefix):\r\n",
      "        aws_list = []\r\n",
      "        s3 = boto3.resource('s3')\r\n",
      "        bucket_name = working_bucket\r\n",
      "        bucket = s3.Bucket(bucket_name)\r\n",
      "        for obj in bucket.objects.filter(Prefix=prefix):\r\n",
      "            obj_key = obj.key\r\n",
      "            obj_key = working_bucket + '/' + obj_key\r\n",
      "            aws_list.append((obj_key, obj.size))\r\n",
      "        return aws_list\r\n",
      "\r\n",
      "\r\n",
      "def return_my_bucket(prefix_with_slash):\r\n",
      "    a = prefix_with_slash.split('/')\r\n",
      "    print('a=',a)\r\n",
      "    THE_BUCKET=a[0]\r\n",
      "    print(\"the BUCKET=\",THE_BUCKET)\r\n",
      "    return THE_BUCKET\r\n",
      "\r\n",
      "\r\n",
      "def s3_list_pseudo_subdirs(prefix_with_slash):\r\n",
      "\r\n",
      "\r\n",
      "    bucket = return_my_bucket(prefix_with_slash)\r\n",
      "    subfolder_list = []\r\n",
      "    #Make sure you provide / in the end\r\n",
      "\r\n",
      "    a = prefix_with_slash.split('/')\r\n",
      "    prefix_with_slash='/'.join(a[1:])\r\n",
      "    prefix = prefix_with_slash \r\n",
      "    \r\n",
      "    print('prefix_with_slash', prefix_with_slash)\r\n",
      "\r\n",
      "    client = boto3.client('s3')\r\n",
      "    result = client.list_objects(Bucket=bucket, Prefix=prefix, Delimiter='/')\r\n",
      "    for o in result.get('CommonPrefixes'):\r\n",
      "        #print ('sub folder : ', o.get('Prefix'))\r\n",
      "        subfolder_list.append(o.get('Prefix'))\r\n",
      "    return subfolder_list,bucket\r\n",
      "\r\n",
      "\r\n",
      "\r\n",
      "\r\n"
     ]
    }
   ],
   "source": [
    "!cat ../../etm/etmLib/etmLib/s3_func.py"
   ]
  },
  {
   "cell_type": "code",
   "execution_count": 7,
   "id": "6c115709",
   "metadata": {},
   "outputs": [
    {
     "name": "stdout",
     "output_type": "stream",
     "text": [
      "import re\r\n",
      "from .log_logger import log_make_logger\r\n",
      "from .log_logger import s3_save_log_file\r\n",
      "from .s3_func import s3_list_pseudo_subdirs\r\n",
      "from .s3_func import return_s3_list\r\n",
      "from .xr_mosaic_func import xr_build_mosaic_ds\r\n",
      "from .xr_mosaic_func import xr_write_geotiff_from_ds\r\n",
      "\r\n",
      "def _return_list_of_years(subfolders):\r\n",
      "    THE_YEAR_LIST = []\r\n",
      "    for path in subfolders:\r\n",
      "        #print(path)\r\n",
      "        the_year = path.split('/')[-2]\r\n",
      "        #print(the_year)\r\n",
      "        if 'aaalog' not in the_year:\r\n",
      "            THE_YEAR_LIST.append(the_year)\r\n",
      "    return THE_YEAR_LIST\r\n",
      "\r\n",
      "\r\n",
      "class Mos_mosaic:\r\n",
      "\r\n",
      "    def __init__(self, in_prefix_path, year, out_prefix_path, products):\r\n",
      "        print(\"hello from Mos_mosaic class\")\r\n",
      "        self.log = log_make_logger('Mos_mosaic')\r\n",
      "        #self.bucket = n_bucket\r\n",
      "        #self.in_bucket = in_bucket\r\n",
      "        #self.out_bucket = out_bucket\r\n",
      "        self.in_prefix_path = in_prefix_path\r\n",
      "        self.products = products\r\n",
      "        self.year = year\r\n",
      "        self.out_prefix_path = out_prefix_path\r\n",
      "        msg = f'{in_prefix_path} {out_prefix_path} , {products}, {year}'\r\n",
      "        self.log.info(msg)\r\n",
      "\r\n",
      "    def _return_peers(self, tif_path, subdirs):\r\n",
      "        self.log.info(f'{tif_path}, {subdirs}')\r\n",
      "        peers = []\r\n",
      "        a = tif_path.split('/')\r\n",
      "        just_tif = a[-2] + '/' + a[-1]\r\n",
      "        for dir in subdirs:\r\n",
      "            peer = dir + just_tif\r\n",
      "            peers.append(peer)\r\n",
      "        \r\n",
      "        return(peers)\r\n",
      "\r\n",
      "    def _do_year_range(self, target_year, subfolders):\r\n",
      "        a = target_year.split('_')\r\n",
      "        start_year = int(a[1])\r\n",
      "        end_year = int(a[2])\r\n",
      "        \r\n",
      "        for year in range(start_year, end_year+1):\r\n",
      "            print(year)\r\n",
      "            target_year=str(year)\r\n",
      "            self._do_one_year(target_year,subfolders)\r\n",
      "\r\n",
      "    \r\n",
      "    def _do_one_year_monthly(self, target_year, subfolders):\r\n",
      "\r\n",
      "        target_tifs = []\r\n",
      "        sub_sub_sub = subfolders[0] + target_year + '/'\r\n",
      "        self.log.info(f'sub is {sub_sub_sub}')\r\n",
      "        all_tifs = return_s3_list(self.bucket, sub_sub_sub)\r\n",
      "        #print(all_tifs)\r\n",
      "\r\n",
      "        target_product = self.products[0] + '_'\r\n",
      "        # Just match the monthly sums -tony\r\n",
      "        expression = '.*' + str(target_year) + '[0-9][0-9].tif$'\r\n",
      "\r\n",
      "        for (tif,sz) in all_tifs:\r\n",
      "            if target_product in tif:\r\n",
      "                #print(tif)\r\n",
      "                #print(expression, tif)\r\n",
      "                match = re.match(expression, tif)\r\n",
      "                if match:\r\n",
      "                    target_tifs.append(tif)\r\n",
      "\r\n",
      "        for tif in target_tifs:\r\n",
      "            print(tif)\r\n",
      "            tif_peers = self._return_peers(tif, subfolders)\r\n",
      "            #print(tif_peers)\r\n",
      "            product = target_product\r\n",
      "            bucket = self.bucket\r\n",
      "            ds = xr_build_mosaic_ds(bucket, product, tif_peers)\r\n",
      "            primary_name = tif_peers[0]\r\n",
      "            xr_write_geotiff_from_ds(ds, primary_name, self.out_prefix_path)\r\n",
      "\r\n",
      "    def _do_one_year(self, target_year, subfolders):\r\n",
      "\r\n",
      "        target_tifs = []\r\n",
      "        sub_sub_sub = subfolders[0] + target_year + '/'\r\n",
      "        self.log.info(f'sub is {sub_sub_sub}')\r\n",
      "        all_tifs = return_s3_list(self.bucket, sub_sub_sub)\r\n",
      "        #print(all_tifs)\r\n",
      "\r\n",
      "        target_product = self.products[0] + '_'\r\n",
      "        for (tif,sz) in all_tifs:\r\n",
      "            if target_product in tif:\r\n",
      "                #print(tif)\r\n",
      "                target_tifs.append(tif)\r\n",
      "\r\n",
      "        for tif in target_tifs:\r\n",
      "            tif_peers = self._return_peers(tif, subfolders)\r\n",
      "            #print(tif_peers)\r\n",
      "            product = target_product\r\n",
      "            bucket = self.bucket\r\n",
      "            ds = xr_build_mosaic_ds(bucket, product, tif_peers)\r\n",
      "            primary_name = tif_peers[0]\r\n",
      "            xr_write_geotiff_from_ds(ds, primary_name, self.out_prefix_path)\r\n",
      "            print(\"wrote: \",primary_name, self.out_prefix_path)\r\n",
      "\r\n",
      "    def run_mosaic(self):\r\n",
      "        self.log.info(\"run_mosaic\")\r\n",
      "        for prod in self.products:\r\n",
      "            self.log.info(f'Mosaic this product: {prod}')\r\n",
      "\r\n",
      "        if not self.in_prefix_path.endswith('/'):\r\n",
      "            in_prefix_with_slash = self.in_prefix_path + '/'\r\n",
      "        else:\r\n",
      "            in_prefix_with_slash = self.in_prefix_path\r\n",
      "        self.log.info(in_prefix_with_slash)\r\n",
      "        subfolders,bucket = s3_list_pseudo_subdirs(in_prefix_with_slash)\r\n",
      "        for folder in subfolders:\r\n",
      "            print(folder)\r\n",
      "        sub_sub = subfolders[0]\r\n",
      "        sub_sub = bucket+'/'+sub_sub\r\n",
      "        self.bucket=bucket\r\n",
      "        years_list,bucket2 = s3_list_pseudo_subdirs(sub_sub)\r\n",
      "        for year in years_list:\r\n",
      "            print(year)\r\n",
      "\r\n",
      "        target_year = self.year\r\n",
      "        self.log.info(f'target year is {target_year}')\r\n",
      "        if 'years_' in target_year:\r\n",
      "            self.log.info(f'DOING ALL THE YEARS {target_year}')\r\n",
      "            self._do_year_range(target_year,subfolders)\r\n",
      "        else:\r\n",
      "            if 'monthly' in target_year:\r\n",
      "                if '_' in target_year:\r\n",
      "                    year = target_year.split('_')[-1]\r\n",
      "                    self.log.info(f'DOING YEAR ', year)\r\n",
      "                    self._do_one_year_monthly(year,subfolders)\r\n",
      "                else:\r\n",
      "                    self.log.info('DOING ALL THE YEARS')\r\n",
      "                    years = _return_list_of_years(years_list)\r\n",
      "                    for year in years:\r\n",
      "                        print(year)\r\n",
      "                        target_year=year\r\n",
      "                        self._do_one_year_monthly(target_year,subfolders)\r\n",
      "            else:\r\n",
      "                if 'all' in target_year:\r\n",
      "                    self.log.info('DOING ALL THE YEARS')\r\n",
      "                    years = _return_list_of_years(years_list)\r\n",
      "                    for year in years:\r\n",
      "                        print(year)\r\n",
      "                        target_year=year\r\n",
      "                        self._do_one_year(target_year,subfolders)\r\n",
      "                else:\r\n",
      "                    self._do_one_year(target_year,subfolders)\r\n",
      "\r\n",
      "\r\n",
      "        \r\n"
     ]
    }
   ],
   "source": [
    "!cat ../../etm/etmLib/etmLib/mos*"
   ]
  },
  {
   "cell_type": "code",
   "execution_count": 8,
   "id": "cdd749a3",
   "metadata": {},
   "outputs": [],
   "source": [
    "from etmLib.mos_mosaic_class import Mos_mosaic"
   ]
  },
  {
   "cell_type": "code",
   "execution_count": 9,
   "id": "e49dd57d",
   "metadata": {},
   "outputs": [],
   "source": [
    "#!pip install --user rioxarray"
   ]
  },
  {
   "cell_type": "code",
   "execution_count": 10,
   "id": "38ec68a6",
   "metadata": {},
   "outputs": [],
   "source": [
    "mm=Mos_mosaic"
   ]
  },
  {
   "cell_type": "code",
   "execution_count": 11,
   "id": "b3873e80",
   "metadata": {},
   "outputs": [
    {
     "data": {
      "text/plain": [
       "etmLib.mos_mosaic_class.Mos_mosaic"
      ]
     },
     "execution_count": 11,
     "metadata": {},
     "output_type": "execute_result"
    }
   ],
   "source": [
    "mm"
   ]
  },
  {
   "cell_type": "code",
   "execution_count": 12,
   "id": "e027a53d",
   "metadata": {},
   "outputs": [
    {
     "name": "stdout",
     "output_type": "stream",
     "text": [
      "a= ['ws-out', 'USA', 'Run08_23_2021', 'run_r37.0_tile1', 'r37.0_tile1', '']\n",
      "the BUCKET= ws-out\n",
      "prefix_with_slash USA/Run08_23_2021/run_r37.0_tile1/r37.0_tile1/\n"
     ]
    },
    {
     "data": {
      "text/plain": [
       "['USA/Run08_23_2021/run_r37.0_tile1/r37.0_tile1/chip25.8N-101.6E/',\n",
       " 'USA/Run08_23_2021/run_r37.0_tile1/r37.0_tile1/chip25.8N-104.2E/',\n",
       " 'USA/Run08_23_2021/run_r37.0_tile1/r37.0_tile1/chip25.8N-106.8E/',\n",
       " 'USA/Run08_23_2021/run_r37.0_tile1/r37.0_tile1/chip25.8N-109.4E/',\n",
       " 'USA/Run08_23_2021/run_r37.0_tile1/r37.0_tile1/chip25.8N-112.0E/',\n",
       " 'USA/Run08_23_2021/run_r37.0_tile1/r37.0_tile1/chip28.6N-101.6E/',\n",
       " 'USA/Run08_23_2021/run_r37.0_tile1/r37.0_tile1/chip28.6N-104.2E/',\n",
       " 'USA/Run08_23_2021/run_r37.0_tile1/r37.0_tile1/chip28.6N-106.8E/',\n",
       " 'USA/Run08_23_2021/run_r37.0_tile1/r37.0_tile1/chip28.6N-109.4E/',\n",
       " 'USA/Run08_23_2021/run_r37.0_tile1/r37.0_tile1/chip28.6N-112.0E/',\n",
       " 'USA/Run08_23_2021/run_r37.0_tile1/r37.0_tile1/chip31.4N-101.6E/',\n",
       " 'USA/Run08_23_2021/run_r37.0_tile1/r37.0_tile1/chip31.4N-104.2E/',\n",
       " 'USA/Run08_23_2021/run_r37.0_tile1/r37.0_tile1/chip31.4N-106.8E/',\n",
       " 'USA/Run08_23_2021/run_r37.0_tile1/r37.0_tile1/chip31.4N-109.4E/',\n",
       " 'USA/Run08_23_2021/run_r37.0_tile1/r37.0_tile1/chip31.4N-112.0E/',\n",
       " 'USA/Run08_23_2021/run_r37.0_tile1/r37.0_tile1/chip34.2N-101.6E/',\n",
       " 'USA/Run08_23_2021/run_r37.0_tile1/r37.0_tile1/chip34.2N-104.2E/',\n",
       " 'USA/Run08_23_2021/run_r37.0_tile1/r37.0_tile1/chip34.2N-106.8E/',\n",
       " 'USA/Run08_23_2021/run_r37.0_tile1/r37.0_tile1/chip34.2N-109.4E/',\n",
       " 'USA/Run08_23_2021/run_r37.0_tile1/r37.0_tile1/chip34.2N-112.0E/',\n",
       " 'USA/Run08_23_2021/run_r37.0_tile1/r37.0_tile1/chip37.0N-101.6E/',\n",
       " 'USA/Run08_23_2021/run_r37.0_tile1/r37.0_tile1/chip37.0N-104.2E/',\n",
       " 'USA/Run08_23_2021/run_r37.0_tile1/r37.0_tile1/chip37.0N-106.8E/',\n",
       " 'USA/Run08_23_2021/run_r37.0_tile1/r37.0_tile1/chip37.0N-109.4E/',\n",
       " 'USA/Run08_23_2021/run_r37.0_tile1/r37.0_tile1/chip37.0N-112.0E/']"
      ]
     },
     "execution_count": 12,
     "metadata": {},
     "output_type": "execute_result"
    }
   ],
   "source": [
    "\n",
    "from etmLib.s3_func import s3_list_pseudo_subdirs\n",
    "\n",
    "in_prefix_with_slash = 'ws-out/USA/Run08_23_2021/run_r37.0_tile1/r37.0_tile1/'\n",
    "subfolders,bucket = s3_list_pseudo_subdirs(in_prefix_with_slash)    \n",
    "subfolders"
   ]
  },
  {
   "cell_type": "code",
   "execution_count": 13,
   "id": "ef0f0cb6",
   "metadata": {},
   "outputs": [
    {
     "name": "stdout",
     "output_type": "stream",
     "text": [
      "a= ['ws-out', 'USA', 'Run08_23_2021', 'run_r37.0_tile1', 'r37.0_tile1', 'chip25.8N-101.6E', '']\n",
      "the BUCKET= ws-out\n",
      "prefix_with_slash USA/Run08_23_2021/run_r37.0_tile1/r37.0_tile1/chip25.8N-101.6E/\n"
     ]
    }
   ],
   "source": [
    "from etmLib.s3_func import s3_list_pseudo_subdirs\n",
    "\n",
    "sub_sub = bucket + '/' + subfolders[0]\n",
    "\n",
    "years_list,bucket2 = s3_list_pseudo_subdirs(sub_sub)"
   ]
  },
  {
   "cell_type": "code",
   "execution_count": 14,
   "id": "00408fcc",
   "metadata": {},
   "outputs": [],
   "source": [
    "years_list = years_list[0:-2]"
   ]
  },
  {
   "cell_type": "code",
   "execution_count": 15,
   "id": "ba0438b0",
   "metadata": {},
   "outputs": [
    {
     "data": {
      "text/plain": [
       "['USA/Run08_23_2021/run_r37.0_tile1/r37.0_tile1/chip25.8N-101.6E/1999/',\n",
       " 'USA/Run08_23_2021/run_r37.0_tile1/r37.0_tile1/chip25.8N-101.6E/2000/',\n",
       " 'USA/Run08_23_2021/run_r37.0_tile1/r37.0_tile1/chip25.8N-101.6E/2001/',\n",
       " 'USA/Run08_23_2021/run_r37.0_tile1/r37.0_tile1/chip25.8N-101.6E/2002/',\n",
       " 'USA/Run08_23_2021/run_r37.0_tile1/r37.0_tile1/chip25.8N-101.6E/2003/',\n",
       " 'USA/Run08_23_2021/run_r37.0_tile1/r37.0_tile1/chip25.8N-101.6E/2004/',\n",
       " 'USA/Run08_23_2021/run_r37.0_tile1/r37.0_tile1/chip25.8N-101.6E/2005/',\n",
       " 'USA/Run08_23_2021/run_r37.0_tile1/r37.0_tile1/chip25.8N-101.6E/2006/',\n",
       " 'USA/Run08_23_2021/run_r37.0_tile1/r37.0_tile1/chip25.8N-101.6E/2007/',\n",
       " 'USA/Run08_23_2021/run_r37.0_tile1/r37.0_tile1/chip25.8N-101.6E/2008/',\n",
       " 'USA/Run08_23_2021/run_r37.0_tile1/r37.0_tile1/chip25.8N-101.6E/2009/',\n",
       " 'USA/Run08_23_2021/run_r37.0_tile1/r37.0_tile1/chip25.8N-101.6E/2010/',\n",
       " 'USA/Run08_23_2021/run_r37.0_tile1/r37.0_tile1/chip25.8N-101.6E/2011/',\n",
       " 'USA/Run08_23_2021/run_r37.0_tile1/r37.0_tile1/chip25.8N-101.6E/2012/',\n",
       " 'USA/Run08_23_2021/run_r37.0_tile1/r37.0_tile1/chip25.8N-101.6E/2013/',\n",
       " 'USA/Run08_23_2021/run_r37.0_tile1/r37.0_tile1/chip25.8N-101.6E/2014/',\n",
       " 'USA/Run08_23_2021/run_r37.0_tile1/r37.0_tile1/chip25.8N-101.6E/2015/',\n",
       " 'USA/Run08_23_2021/run_r37.0_tile1/r37.0_tile1/chip25.8N-101.6E/2016/',\n",
       " 'USA/Run08_23_2021/run_r37.0_tile1/r37.0_tile1/chip25.8N-101.6E/2017/',\n",
       " 'USA/Run08_23_2021/run_r37.0_tile1/r37.0_tile1/chip25.8N-101.6E/2018/',\n",
       " 'USA/Run08_23_2021/run_r37.0_tile1/r37.0_tile1/chip25.8N-101.6E/2019/',\n",
       " 'USA/Run08_23_2021/run_r37.0_tile1/r37.0_tile1/chip25.8N-101.6E/2020/']"
      ]
     },
     "execution_count": 15,
     "metadata": {},
     "output_type": "execute_result"
    }
   ],
   "source": [
    "years_list"
   ]
  },
  {
   "cell_type": "code",
   "execution_count": 16,
   "id": "fd8533b2",
   "metadata": {},
   "outputs": [
    {
     "data": {
      "text/plain": [
       "'ws-out'"
      ]
     },
     "execution_count": 16,
     "metadata": {},
     "output_type": "execute_result"
    }
   ],
   "source": [
    "bucket2"
   ]
  },
  {
   "cell_type": "code",
   "execution_count": 17,
   "id": "17c395c0",
   "metadata": {},
   "outputs": [
    {
     "data": {
      "text/plain": [
       "1000"
      ]
     },
     "execution_count": 17,
     "metadata": {},
     "output_type": "execute_result"
    }
   ],
   "source": [
    "import boto3\n",
    "\n",
    "File='USA/Run08_23_2021/run_r37.0_tile0/r37.0_tile0/chip25.8N-114.6E/2020/'\n",
    "\n",
    "objs = boto3.client('s3').list_objects_v2(Bucket=bucket2,Prefix=File)\n",
    "fileCount = objs['KeyCount']\n",
    "fileCount"
   ]
  },
  {
   "cell_type": "code",
   "execution_count": 18,
   "id": "a006b1a7",
   "metadata": {},
   "outputs": [],
   "source": [
    "s3 = boto3.client('s3')\n",
    "\n",
    "paginator = s3.get_paginator('list_objects_v2')\n",
    "pages = paginator.paginate(Bucket=bucket2, Prefix=File)\n",
    "\n",
    "cnt=0\n",
    "for page in pages:\n",
    "    for obj in page['Contents']:\n",
    "        cnt = cnt + 1\n",
    "        #print(obj['Size'])"
   ]
  },
  {
   "cell_type": "code",
   "execution_count": 19,
   "id": "dde9ac4e",
   "metadata": {},
   "outputs": [
    {
     "data": {
      "text/plain": [
       "4818"
      ]
     },
     "execution_count": 19,
     "metadata": {},
     "output_type": "execute_result"
    }
   ],
   "source": [
    "cnt"
   ]
  },
  {
   "cell_type": "code",
   "execution_count": 20,
   "id": "d9bfb83e",
   "metadata": {},
   "outputs": [],
   "source": [
    "def return_number_objects_in_s3_prefix(bucket,prefix):\n",
    "    s3 = boto3.client('s3')\n",
    "\n",
    "    paginator = s3.get_paginator('list_objects_v2')\n",
    "    pages = paginator.paginate(Bucket=bucket, Prefix=prefix)\n",
    "\n",
    "    cnt=0\n",
    "    for page in pages:\n",
    "        for obj in page['Contents']:\n",
    "            cnt = cnt + 1\n",
    "    return(cnt)\n"
   ]
  },
  {
   "cell_type": "code",
   "execution_count": 21,
   "id": "f10937cc",
   "metadata": {},
   "outputs": [],
   "source": [
    "# prefix=years_list[0]\n",
    "# my_cnt = return_number_objects_in_s3_prefix(bucket2,prefix)\n",
    "# my_cnt"
   ]
  },
  {
   "cell_type": "code",
   "execution_count": 22,
   "id": "730d1ab7",
   "metadata": {},
   "outputs": [],
   "source": [
    "# for prefix in years_list:\n",
    "#     my_cnt = return_number_objects_in_s3_prefix(bucket2,prefix)\n",
    "#     print(my_cnt)\n",
    "#     if my_cnt < 4800:\n",
    "#         print('etops code FAILED!')"
   ]
  },
  {
   "cell_type": "code",
   "execution_count": 23,
   "id": "da8e4c52",
   "metadata": {},
   "outputs": [],
   "source": [
    "def validate_counts(bucket, folder):\n",
    "    for prefix in years_list:\n",
    "        my_cnt = return_number_objects_in_s3_prefix(bucket2,prefix)\n",
    "        print(my_cnt,'',end='')\n",
    "        if my_cnt < 4800:\n",
    "            print('etops code FAILED!')\n",
    "    print(\"###\"*30)"
   ]
  },
  {
   "cell_type": "code",
   "execution_count": null,
   "id": "aeef945e",
   "metadata": {},
   "outputs": [
    {
     "name": "stdout",
     "output_type": "stream",
     "text": [
      "USA/Run08_23_2021/run_r37.0_tile1/r37.0_tile1/chip25.8N-101.6E/\n",
      "4805 4818 4805 4805 4805 4818 4805 4805 4805 4818 4805 4805 4805 4818 4805 4805 4805 4818 4805 4805 4805 4818 ##########################################################################################\n",
      "USA/Run08_23_2021/run_r37.0_tile1/r37.0_tile1/chip25.8N-104.2E/\n",
      "4805 4818 4805 4805 4805 4818 4805 4805 4805 4818 4805 4805 4805 4818 4805 4805 4805 4818 4805 4805 4805 4818 ##########################################################################################\n",
      "USA/Run08_23_2021/run_r37.0_tile1/r37.0_tile1/chip25.8N-106.8E/\n",
      "4805 4818 4805 4805 4805 4818 4805 4805 4805 4818 4805 4805 4805 4818 4805 4805 4805 4818 4805 4805 4805 4818 ##########################################################################################\n",
      "USA/Run08_23_2021/run_r37.0_tile1/r37.0_tile1/chip25.8N-109.4E/\n",
      "4805 4818 4805 4805 4805 4818 4805 4805 4805 4818 4805 4805 4805 4818 4805 4805 4805 4818 4805 4805 4805 4818 ##########################################################################################\n",
      "USA/Run08_23_2021/run_r37.0_tile1/r37.0_tile1/chip25.8N-112.0E/\n",
      "4805 4818 4805 4805 4805 4818 4805 4805 4805 4818 4805 4805 4805 4818 4805 4805 4805 4818 4805 4805 4805 4818 ##########################################################################################\n",
      "USA/Run08_23_2021/run_r37.0_tile1/r37.0_tile1/chip28.6N-101.6E/\n",
      "4805 4818 4805 4805 4805 4818 4805 4805 4805 4818 4805 4805 4805 4818 4805 4805 4805 4818 4805 4805 4805 4818 ##########################################################################################\n",
      "USA/Run08_23_2021/run_r37.0_tile1/r37.0_tile1/chip28.6N-104.2E/\n",
      "4805 4818 4805 4805 4805 4818 4805 4805 4805 4818 4805 4805 4805 4818 4805 4805 4805 4818 4805 4805 4805 4818 ##########################################################################################\n",
      "USA/Run08_23_2021/run_r37.0_tile1/r37.0_tile1/chip28.6N-106.8E/\n",
      "4805 4818 4805 4805 4805 4818 4805 4805 4805 4818 4805 4805 4805 4818 4805 4805 4805 4818 4805 4805 4805 4818 ##########################################################################################\n",
      "USA/Run08_23_2021/run_r37.0_tile1/r37.0_tile1/chip28.6N-109.4E/\n",
      "4805 4818 4805 4805 4805 4818 4805 4805 4805 4818 4805 4805 4805 4818 4805 4805 4805 4818 4805 4805 4805 4818 ##########################################################################################\n",
      "USA/Run08_23_2021/run_r37.0_tile1/r37.0_tile1/chip28.6N-112.0E/\n",
      "4805 4818 4805 4805 4805 4818 4805 4805 4805 4818 4805 4805 "
     ]
    }
   ],
   "source": [
    "my_bucket = 'ws-out'\n",
    "for folder in subfolders:\n",
    "    print(folder)\n",
    "    validate_counts(my_bucket, folder)"
   ]
  },
  {
   "cell_type": "code",
   "execution_count": null,
   "id": "5a35819a",
   "metadata": {},
   "outputs": [],
   "source": []
  }
 ],
 "metadata": {
  "kernelspec": {
   "display_name": "Python 3",
   "language": "python",
   "name": "python3"
  },
  "language_info": {
   "codemirror_mode": {
    "name": "ipython",
    "version": 3
   },
   "file_extension": ".py",
   "mimetype": "text/x-python",
   "name": "python",
   "nbconvert_exporter": "python",
   "pygments_lexer": "ipython3",
   "version": "3.7.3"
  }
 },
 "nbformat": 4,
 "nbformat_minor": 5
}
