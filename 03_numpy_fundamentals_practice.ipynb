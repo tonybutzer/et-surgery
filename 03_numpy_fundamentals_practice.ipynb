{
 "cells": [
  {
   "cell_type": "markdown",
   "id": "cc169bb1",
   "metadata": {},
   "source": [
    "## numpy tutorials\n",
    "\n",
    "- https://www.youtube.com/watch?v=AAS8yoKuK7M\n",
    "- https://www.youtube.com/watch?v=119bNu4E8R4"
   ]
  },
  {
   "cell_type": "code",
   "execution_count": 1,
   "id": "045f3c68",
   "metadata": {},
   "outputs": [],
   "source": [
    "import numpy as np"
   ]
  },
  {
   "cell_type": "code",
   "execution_count": 2,
   "id": "e15fbf36",
   "metadata": {},
   "outputs": [],
   "source": [
    "# nd-arrays"
   ]
  },
  {
   "cell_type": "code",
   "execution_count": 3,
   "id": "b9b02a41",
   "metadata": {},
   "outputs": [],
   "source": [
    "a=np.array([[1,3,5],[7,9,11]])"
   ]
  },
  {
   "cell_type": "code",
   "execution_count": 4,
   "id": "28d567e4",
   "metadata": {},
   "outputs": [
    {
     "data": {
      "text/plain": [
       "array([[ 1,  3,  5],\n",
       "       [ 7,  9, 11]])"
      ]
     },
     "execution_count": 4,
     "metadata": {},
     "output_type": "execute_result"
    }
   ],
   "source": [
    "a"
   ]
  },
  {
   "cell_type": "code",
   "execution_count": 5,
   "id": "cb0bfb0f",
   "metadata": {},
   "outputs": [
    {
     "data": {
      "text/plain": [
       "9"
      ]
     },
     "execution_count": 5,
     "metadata": {},
     "output_type": "execute_result"
    }
   ],
   "source": [
    "a[1,1]"
   ]
  },
  {
   "cell_type": "code",
   "execution_count": 6,
   "id": "b8f80841",
   "metadata": {},
   "outputs": [
    {
     "data": {
      "text/plain": [
       "1"
      ]
     },
     "execution_count": 6,
     "metadata": {},
     "output_type": "execute_result"
    }
   ],
   "source": [
    "a[0,0]"
   ]
  },
  {
   "cell_type": "code",
   "execution_count": 8,
   "id": "6f42dc32",
   "metadata": {},
   "outputs": [
    {
     "data": {
      "text/plain": [
       "7"
      ]
     },
     "execution_count": 8,
     "metadata": {},
     "output_type": "execute_result"
    }
   ],
   "source": [
    "a[1,0]"
   ]
  },
  {
   "cell_type": "code",
   "execution_count": 9,
   "id": "ab29ea0e",
   "metadata": {},
   "outputs": [
    {
     "data": {
      "text/plain": [
       "3"
      ]
     },
     "execution_count": 9,
     "metadata": {},
     "output_type": "execute_result"
    }
   ],
   "source": [
    "a[0,1]"
   ]
  },
  {
   "cell_type": "code",
   "execution_count": 10,
   "id": "4cd85878",
   "metadata": {},
   "outputs": [],
   "source": [
    "a[1,1]=100"
   ]
  },
  {
   "cell_type": "code",
   "execution_count": 11,
   "id": "23d0d9c1",
   "metadata": {},
   "outputs": [
    {
     "data": {
      "text/plain": [
       "array([[  1,   3,   5],\n",
       "       [  7, 100,  11]])"
      ]
     },
     "execution_count": 11,
     "metadata": {},
     "output_type": "execute_result"
    }
   ],
   "source": [
    "a"
   ]
  },
  {
   "cell_type": "code",
   "execution_count": 12,
   "id": "4cf0a8b1",
   "metadata": {},
   "outputs": [
    {
     "data": {
      "text/plain": [
       "(2, 3)"
      ]
     },
     "execution_count": 12,
     "metadata": {},
     "output_type": "execute_result"
    }
   ],
   "source": [
    "a.shape"
   ]
  },
  {
   "cell_type": "code",
   "execution_count": 14,
   "id": "2383753f",
   "metadata": {},
   "outputs": [],
   "source": [
    "a=np.full((100,100), 88)"
   ]
  },
  {
   "cell_type": "code",
   "execution_count": 15,
   "id": "06e2dbaa",
   "metadata": {},
   "outputs": [
    {
     "data": {
      "text/plain": [
       "array([[88, 88, 88, ..., 88, 88, 88],\n",
       "       [88, 88, 88, ..., 88, 88, 88],\n",
       "       [88, 88, 88, ..., 88, 88, 88],\n",
       "       ...,\n",
       "       [88, 88, 88, ..., 88, 88, 88],\n",
       "       [88, 88, 88, ..., 88, 88, 88],\n",
       "       [88, 88, 88, ..., 88, 88, 88]])"
      ]
     },
     "execution_count": 15,
     "metadata": {},
     "output_type": "execute_result"
    }
   ],
   "source": [
    "a"
   ]
  },
  {
   "cell_type": "code",
   "execution_count": 16,
   "id": "bd7d7119",
   "metadata": {},
   "outputs": [
    {
     "data": {
      "text/plain": [
       "(100, 100)"
      ]
     },
     "execution_count": 16,
     "metadata": {},
     "output_type": "execute_result"
    }
   ],
   "source": [
    "a.shape"
   ]
  },
  {
   "cell_type": "code",
   "execution_count": 17,
   "id": "bc036985",
   "metadata": {},
   "outputs": [],
   "source": [
    "for x in range (50,70):\n",
    "    for y in range (50,70):\n",
    "        a[x,y] = 22"
   ]
  },
  {
   "cell_type": "code",
   "execution_count": 18,
   "id": "dd98eb79",
   "metadata": {},
   "outputs": [
    {
     "data": {
      "text/plain": [
       "array([[88, 88, 88, ..., 88, 88, 88],\n",
       "       [88, 88, 88, ..., 88, 88, 88],\n",
       "       [88, 88, 88, ..., 88, 88, 88],\n",
       "       ...,\n",
       "       [88, 88, 88, ..., 88, 88, 88],\n",
       "       [88, 88, 88, ..., 88, 88, 88],\n",
       "       [88, 88, 88, ..., 88, 88, 88]])"
      ]
     },
     "execution_count": 18,
     "metadata": {},
     "output_type": "execute_result"
    }
   ],
   "source": [
    "a"
   ]
  },
  {
   "cell_type": "code",
   "execution_count": 19,
   "id": "c799ada9",
   "metadata": {},
   "outputs": [
    {
     "data": {
      "image/png": "[encoded data removed]",
      "text/plain": [
       "<Figure size 432x288 with 1 Axes>"
      ]
     },
     "metadata": {
      "needs_background": "light"
     },
     "output_type": "display_data"
    }
   ],
   "source": [
    "import matplotlib.pyplot as plt\n",
    "# PLot\n",
    "\n",
    "plt.plot(a) \n",
    "\n",
    "# Add Title\n",
    "\n",
    "plt.title(\"Matplotlib PLot NumPy Array\") \n",
    "\n",
    "# Add Axes Labels\n",
    "\n",
    "plt.xlabel(\"x axis\") \n",
    "plt.ylabel(\"y axis\") \n",
    "\n",
    "# Display\n",
    "\n",
    "plt.show()"
   ]
  },
  {
   "cell_type": "code",
   "execution_count": 21,
   "id": "67ddb0a2",
   "metadata": {},
   "outputs": [
    {
     "data": {
      "text/plain": [
       "(100, 100)"
      ]
     },
     "execution_count": 21,
     "metadata": {},
     "output_type": "execute_result"
    }
   ],
   "source": [
    "a.shape"
   ]
  },
  {
   "cell_type": "code",
   "execution_count": 22,
   "id": "be476558",
   "metadata": {},
   "outputs": [
    {
     "data": {
      "image/png": "[encoded data removed]",
      "text/plain": [
       "<Figure size 432x288 with 1 Axes>"
      ]
     },
     "metadata": {
      "needs_background": "light"
     },
     "output_type": "display_data"
    }
   ],
   "source": [
    "# Import Library\n",
    "\n",
    "import numpy as np\n",
    "import matplotlib.pyplot as plt\n",
    "\n",
    "# Define Data\n",
    "\n",
    "x = np.arange(100).reshape((10,10)) \n",
    "\n",
    "# Heat map\n",
    "\n",
    "plt.imshow( x, cmap = 'rainbow' , interpolation = 'bilinear')\n",
    "\n",
    "# Add Title\n",
    "\n",
    "plt.title( \"Heat Map\" )\n",
    "\n",
    "# Display\n",
    "\n",
    "plt.show()"
   ]
  },
  {
   "cell_type": "code",
   "execution_count": 23,
   "id": "625db643",
   "metadata": {},
   "outputs": [
    {
     "data": {
      "text/plain": [
       "<matplotlib.image.AxesImage at 0x7f8506b9d220>"
      ]
     },
     "execution_count": 23,
     "metadata": {},
     "output_type": "execute_result"
    },
    {
     "data": {
      "image/png": "[encoded data removed]",
      "text/plain": [
       "<Figure size 432x288 with 1 Axes>"
      ]
     },
     "metadata": {
      "needs_background": "light"
     },
     "output_type": "display_data"
    }
   ],
   "source": [
    "plt.imshow( a, cmap = 'rainbow' , interpolation = 'bilinear')\n"
   ]
  },
  {
   "cell_type": "code",
   "execution_count": 24,
   "id": "1b16be61",
   "metadata": {},
   "outputs": [
    {
     "name": "stdout",
     "output_type": "stream",
     "text": [
      "Help on function flip in module numpy:\n",
      "\n",
      "flip(m, axis=None)\n",
      "    Reverse the order of elements in an array along the given axis.\n",
      "    \n",
      "    The shape of the array is preserved, but the elements are reordered.\n",
      "    \n",
      "    .. versionadded:: 1.12.0\n",
      "    \n",
      "    Parameters\n",
      "    ----------\n",
      "    m : array_like\n",
      "        Input array.\n",
      "    axis : None or int or tuple of ints, optional\n",
      "         Axis or axes along which to flip over. The default,\n",
      "         axis=None, will flip over all of the axes of the input array.\n",
      "         If axis is negative it counts from the last to the first axis.\n",
      "    \n",
      "         If axis is a tuple of ints, flipping is performed on all of the axes\n",
      "         specified in the tuple.\n",
      "    \n",
      "         .. versionchanged:: 1.15.0\n",
      "            None and tuples of axes are supported\n",
      "    \n",
      "    Returns\n",
      "    -------\n",
      "    out : array_like\n",
      "        A view of `m` with the entries of axis reversed.  Since a view is\n",
      "        returned, this operation is done in constant time.\n",
      "    \n",
      "    See Also\n",
      "    --------\n",
      "    flipud : Flip an array vertically (axis=0).\n",
      "    fliplr : Flip an array horizontally (axis=1).\n",
      "    \n",
      "    Notes\n",
      "    -----\n",
      "    flip(m, 0) is equivalent to flipud(m).\n",
      "    \n",
      "    flip(m, 1) is equivalent to fliplr(m).\n",
      "    \n",
      "    flip(m, n) corresponds to ``m[...,::-1,...]`` with ``::-1`` at position n.\n",
      "    \n",
      "    flip(m) corresponds to ``m[::-1,::-1,...,::-1]`` with ``::-1`` at all\n",
      "    positions.\n",
      "    \n",
      "    flip(m, (0, 1)) corresponds to ``m[::-1,::-1,...]`` with ``::-1`` at\n",
      "    position 0 and position 1.\n",
      "    \n",
      "    Examples\n",
      "    --------\n",
      "    >>> A = np.arange(8).reshape((2,2,2))\n",
      "    >>> A\n",
      "    array([[[0, 1],\n",
      "            [2, 3]],\n",
      "           [[4, 5],\n",
      "            [6, 7]]])\n",
      "    >>> np.flip(A, 0)\n",
      "    array([[[4, 5],\n",
      "            [6, 7]],\n",
      "           [[0, 1],\n",
      "            [2, 3]]])\n",
      "    >>> np.flip(A, 1)\n",
      "    array([[[2, 3],\n",
      "            [0, 1]],\n",
      "           [[6, 7],\n",
      "            [4, 5]]])\n",
      "    >>> np.flip(A)\n",
      "    array([[[7, 6],\n",
      "            [5, 4]],\n",
      "           [[3, 2],\n",
      "            [1, 0]]])\n",
      "    >>> np.flip(A, (0, 2))\n",
      "    array([[[5, 4],\n",
      "            [7, 6]],\n",
      "           [[1, 0],\n",
      "            [3, 2]]])\n",
      "    >>> A = np.random.randn(3,4,5)\n",
      "    >>> np.all(np.flip(A,2) == A[:,:,::-1,...])\n",
      "    True\n",
      "\n"
     ]
    }
   ],
   "source": [
    "help(np.flip)"
   ]
  },
  {
   "cell_type": "code",
   "execution_count": 25,
   "id": "8eba77d8",
   "metadata": {},
   "outputs": [],
   "source": [
    "b=np.flip(a,axis=0)"
   ]
  },
  {
   "cell_type": "code",
   "execution_count": 26,
   "id": "bf1cfb60",
   "metadata": {},
   "outputs": [
    {
     "data": {
      "text/plain": [
       "<matplotlib.image.AxesImage at 0x7f8506b788e0>"
      ]
     },
     "execution_count": 26,
     "metadata": {},
     "output_type": "execute_result"
    },
    {
     "data": {
      "image/png": "[encoded data removed]",
      "text/plain": [
       "<Figure size 432x288 with 1 Axes>"
      ]
     },
     "metadata": {
      "needs_background": "light"
     },
     "output_type": "display_data"
    }
   ],
   "source": [
    "plt.imshow( b, cmap = 'rainbow' , interpolation = 'bilinear')\n"
   ]
  },
  {
   "cell_type": "code",
   "execution_count": null,
   "id": "09790b61",
   "metadata": {},
   "outputs": [],
   "source": []
  }
 ],
 "metadata": {
  "kernelspec": {
   "display_name": "Python 3 (ipykernel)",
   "language": "python",
   "name": "python3"
  },
  "language_info": {
   "codemirror_mode": {
    "name": "ipython",
    "version": 3
   },
   "file_extension": ".py",
   "mimetype": "text/x-python",
   "name": "python",
   "nbconvert_exporter": "python",
   "pygments_lexer": "ipython3",
   "version": "3.9.7"
  }
 },
 "nbformat": 4,
 "nbformat_minor": 5
}
