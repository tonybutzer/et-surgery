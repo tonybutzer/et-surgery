{
 "cells": [
  {
   "cell_type": "code",
   "execution_count": null,
   "id": "13593531",
   "metadata": {},
   "outputs": [],
   "source": [
    "import rioxarray\n",
    "\n",
    "#See docs for rioxarray.open_rasterio\n",
    "\n",
    "rds = rioxarray.open_rasterio('./r50.0_tile7.tif')\n",
    "rds"
   ]
  },
  {
   "cell_type": "code",
   "execution_count": null,
   "id": "9c71f2ad",
   "metadata": {},
   "outputs": [],
   "source": [
    "import hvplot.xarray\n",
    "rds.hvplot.image(rasterize=True,  x='x', y='y', width=500, height=400, cmap='viridis', clim=(1,255))"
   ]
  },
  {
   "cell_type": "code",
   "execution_count": null,
   "id": "76ea2115",
   "metadata": {},
   "outputs": [],
   "source": [
    "s3_file_obj = 's3://ws-enduser/USA/r50.0_tile7/2020/etasw_202005.tif'\n",
    "\n",
    "rds1 = rioxarray.open_rasterio(s3_file_obj)\n"
   ]
  },
  {
   "cell_type": "code",
   "execution_count": null,
   "id": "d80c89d8",
   "metadata": {},
   "outputs": [],
   "source": [
    "rds1.hvplot.image(rasterize=True,  x='x', y='y', width=500, height=400, cmap='viridis', clim=(1,255))"
   ]
  },
  {
   "cell_type": "code",
   "execution_count": null,
   "id": "debbdb4a",
   "metadata": {},
   "outputs": [],
   "source": [
    "import cartopy.crs as ccrs\n",
    "\n",
    "# Example - your x and y coordinates are in a Lambert Conformal projection\n",
    "data_crs = ccrs.LambertConformal(central_longitude=-100)\n",
    "\n",
    "# Transform the point - src_crs is always Plate Carree for lat/lon grid\n",
    "x, y = data_crs.transform_point(-122.68, 21.2, src_crs=ccrs.PlateCarree())\n",
    "\n",
    "# Now you can select data\n",
    "ds.sel(x=x, y=y)"
   ]
  },
  {
   "cell_type": "code",
   "execution_count": null,
   "id": "b742f390",
   "metadata": {},
   "outputs": [],
   "source": [
    "#my_thing = rds.sel(x=-92.607, y=41.063)"
   ]
  },
  {
   "cell_type": "code",
   "execution_count": null,
   "id": "9de5973b",
   "metadata": {},
   "outputs": [],
   "source": [
    "rds"
   ]
  },
  {
   "cell_type": "code",
   "execution_count": null,
   "id": "37249d0b",
   "metadata": {},
   "outputs": [],
   "source": [
    "rds.x.values"
   ]
  },
  {
   "cell_type": "code",
   "execution_count": null,
   "id": "51626d68",
   "metadata": {},
   "outputs": [],
   "source": [
    "type(rds.x.values)"
   ]
  },
  {
   "cell_type": "markdown",
   "id": "4e51ad5d",
   "metadata": {},
   "source": [
    "https://www.geeksforgeeks.org/find-the-nearest-value-and-the-index-of-numpy-array/"
   ]
  },
  {
   "cell_type": "code",
   "execution_count": null,
   "id": "15a02296",
   "metadata": {},
   "outputs": [],
   "source": [
    "import numpy as np\n",
    "arr = rds.x.values\n",
    "print(\"Array is : \", arr)\n",
    "  \n",
    "# element to which nearest value is to be found\n",
    "x = -92.604\n",
    "print(\"Value to which nearest element is to be found: \", x)\n",
    "  \n",
    "# calculate the difference array\n",
    "difference_array = np.absolute(arr-x)\n",
    "  \n",
    "# find the index of minimum element from the array\n",
    "index = difference_array.argmin()\n",
    "print(\"Nearest element to the given values is : \", arr[index])\n",
    "print(\"Index of nearest value is : \", index)"
   ]
  },
  {
   "cell_type": "code",
   "execution_count": null,
   "id": "53bbbe27",
   "metadata": {},
   "outputs": [],
   "source": [
    "arr = rds.y.values\n",
    "print(\"Array is : \", arr)\n",
    "  \n",
    "# element to which nearest value is to be found\n",
    "x = 41.063\n",
    "print(\"Value to which nearest element is to be found: \", x)\n",
    "  \n",
    "# calculate the difference array\n",
    "difference_array = np.absolute(arr-x)\n",
    "  \n",
    "# find the index of minimum element from the array\n",
    "index = difference_array.argmin()\n",
    "print(\"Nearest element to the given values is : \", arr[index])\n",
    "print(\"Index of nearest value is : \", index)"
   ]
  },
  {
   "cell_type": "code",
   "execution_count": null,
   "id": "a2c9ff21",
   "metadata": {},
   "outputs": [],
   "source": [
    "#my_thing = rds.sel(x=-92.607, y=41.063)\n",
    "my_thing = rds.isel(x=1952,y=1952)\n"
   ]
  },
  {
   "cell_type": "code",
   "execution_count": null,
   "id": "2002126f",
   "metadata": {},
   "outputs": [],
   "source": [
    "my_thing"
   ]
  },
  {
   "cell_type": "code",
   "execution_count": null,
   "id": "23829f17",
   "metadata": {},
   "outputs": [],
   "source": [
    "#3074 - expect nan\n",
    "my_thing = rds.isel(x=3074,y=1952)\n",
    "\n",
    "my_thing"
   ]
  },
  {
   "cell_type": "code",
   "execution_count": null,
   "id": "3ac8685a",
   "metadata": {},
   "outputs": [],
   "source": [
    "my_thing.values[0] = 88"
   ]
  },
  {
   "cell_type": "code",
   "execution_count": null,
   "id": "77e1074e",
   "metadata": {},
   "outputs": [],
   "source": [
    "my_thing"
   ]
  },
  {
   "cell_type": "code",
   "execution_count": null,
   "id": "18aa9c8b",
   "metadata": {},
   "outputs": [],
   "source": [
    "for x in range(3074,3174):\n",
    "    for y in range(1952,2052):\n",
    "        my_thing = rds.isel(x=x,y=y)\n",
    "        my_thing.values[0] = 88\n"
   ]
  },
  {
   "cell_type": "code",
   "execution_count": null,
   "id": "d7ce6d52",
   "metadata": {},
   "outputs": [],
   "source": [
    "rds.hvplot.image(rasterize=True,  x='x', y='y', width=500, height=400, cmap='viridis', clim=(1,255))"
   ]
  },
  {
   "cell_type": "code",
   "execution_count": null,
   "id": "d6b73988",
   "metadata": {},
   "outputs": [],
   "source": [
    "my_thing = rds.isel(x=3074,y=1952)\n",
    "\n",
    "my_thing"
   ]
  },
  {
   "cell_type": "code",
   "execution_count": null,
   "id": "459d4559",
   "metadata": {},
   "outputs": [],
   "source": [
    "my_arr = rds.values"
   ]
  },
  {
   "cell_type": "code",
   "execution_count": null,
   "id": "05953da0",
   "metadata": {},
   "outputs": [],
   "source": [
    "my_arr"
   ]
  },
  {
   "cell_type": "code",
   "execution_count": null,
   "id": "f350f87e",
   "metadata": {},
   "outputs": [],
   "source": [
    "my_arr.shape"
   ]
  },
  {
   "cell_type": "code",
   "execution_count": null,
   "id": "458726d5",
   "metadata": {},
   "outputs": [],
   "source": [
    "for x in range(0,3000):\n",
    "    for y in range(0,3000):\n",
    "        my_arr[0][x,y] = 88"
   ]
  },
  {
   "cell_type": "code",
   "execution_count": null,
   "id": "f4ca2a33",
   "metadata": {},
   "outputs": [],
   "source": [
    "my_arr"
   ]
  },
  {
   "cell_type": "code",
   "execution_count": null,
   "id": "d4320d39",
   "metadata": {},
   "outputs": [],
   "source": [
    "rds.hvplot.image(rasterize=True,  x='x', y='y', width=500, height=400, cmap='viridis', clim=(1,255))"
   ]
  },
  {
   "cell_type": "code",
   "execution_count": null,
   "id": "6d5a4a9e",
   "metadata": {},
   "outputs": [],
   "source": [
    "import xarray as xr\n",
    "a = xr.DataArray(np.arange(16).reshape(4, 4), dims=['x', 'y'])\n",
    "\n",
    "c = a.where(a == 5, other=5)\n"
   ]
  },
  {
   "cell_type": "code",
   "execution_count": null,
   "id": "9cf00c34",
   "metadata": {},
   "outputs": [],
   "source": [
    "a"
   ]
  },
  {
   "cell_type": "code",
   "execution_count": null,
   "id": "67d9e829",
   "metadata": {},
   "outputs": [],
   "source": [
    "c"
   ]
  },
  {
   "cell_type": "code",
   "execution_count": null,
   "id": "4e40725a",
   "metadata": {},
   "outputs": [],
   "source": [
    "rds[:]=my_arr"
   ]
  },
  {
   "cell_type": "code",
   "execution_count": null,
   "id": "cb584be9",
   "metadata": {},
   "outputs": [],
   "source": [
    "rds"
   ]
  },
  {
   "cell_type": "code",
   "execution_count": null,
   "id": "3590bdbe",
   "metadata": {},
   "outputs": [],
   "source": [
    "rds.hvplot.image(rasterize=True,  x='x', y='y', width=500, height=400, cmap='viridis', clim=(1,255))"
   ]
  },
  {
   "cell_type": "code",
   "execution_count": null,
   "id": "ca64a4b0",
   "metadata": {},
   "outputs": [],
   "source": [
    "for x in range(3074,3274):\n",
    "    for y in range(1952,2452):\n",
    "        my_arr[0][x,y]= 88"
   ]
  },
  {
   "cell_type": "code",
   "execution_count": null,
   "id": "6f41b42a",
   "metadata": {},
   "outputs": [],
   "source": [
    "my_arr[0][3074,1952]"
   ]
  },
  {
   "cell_type": "code",
   "execution_count": null,
   "id": "659cfd44",
   "metadata": {},
   "outputs": [],
   "source": [
    "rds[:]=my_arr"
   ]
  },
  {
   "cell_type": "code",
   "execution_count": null,
   "id": "70610cf2",
   "metadata": {},
   "outputs": [],
   "source": [
    "rds.hvplot.image(rasterize=True,  x='x', y='y', width=500, height=400, cmap='viridis', clim=(1,255))"
   ]
  },
  {
   "cell_type": "code",
   "execution_count": null,
   "id": "09edc734",
   "metadata": {},
   "outputs": [],
   "source": [
    "rds[:]=my_arr"
   ]
  },
  {
   "cell_type": "code",
   "execution_count": null,
   "id": "77d68e59",
   "metadata": {},
   "outputs": [],
   "source": [
    "rds.hvplot.image(rasterize=True,  x='x', y='y', width=500, height=400, cmap='viridis', clim=(1,255))"
   ]
  },
  {
   "cell_type": "code",
   "execution_count": null,
   "id": "6f2b8299",
   "metadata": {},
   "outputs": [],
   "source": []
  }
 ],
 "metadata": {
  "kernelspec": {
   "display_name": "Python 3 (ipykernel)",
   "language": "python",
   "name": "python3"
  },
  "language_info": {
   "codemirror_mode": {
    "name": "ipython",
    "version": 3
   },
   "file_extension": ".py",
   "mimetype": "text/x-python",
   "name": "python",
   "nbconvert_exporter": "python",
   "pygments_lexer": "ipython3",
   "version": "3.9.7"
  }
 },
 "nbformat": 4,
 "nbformat_minor": 5
}
