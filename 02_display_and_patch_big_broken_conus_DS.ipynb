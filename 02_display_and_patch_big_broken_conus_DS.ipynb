{
 "cells": [
  {
   "cell_type": "code",
   "execution_count": null,
   "id": "13593531",
   "metadata": {},
   "outputs": [],
   "source": [
    "import rioxarray\n",
    "\n",
    "#See docs for rioxarray.open_rasterio\n",
    "\n",
    "rds = rioxarray.open_rasterio('./r50.0_tile7.tif')\n",
    "rds"
   ]
  },
  {
   "cell_type": "code",
   "execution_count": null,
   "id": "9c71f2ad",
   "metadata": {},
   "outputs": [],
   "source": [
    "import hvplot.xarray\n",
    "rds.hvplot.image(rasterize=True,  x='x', y='y', width=500, height=400, cmap='viridis', clim=(1,255))"
   ]
  },
  {
   "cell_type": "code",
   "execution_count": null,
   "id": "76ea2115",
   "metadata": {},
   "outputs": [],
   "source": [
    "s3_file_obj = 's3://ws-enduser/USA/r50.0_tile7/2020/etasw_202005.tif'\n",
    "\n",
    "rds1 = rioxarray.open_rasterio(s3_file_obj)\n"
   ]
  },
  {
   "cell_type": "code",
   "execution_count": null,
   "id": "d80c89d8",
   "metadata": {},
   "outputs": [],
   "source": [
    "rds1.hvplot.image(rasterize=True,  x='x', y='y', width=500, height=400, cmap='viridis', clim=(1,255))"
   ]
  },
  {
   "cell_type": "markdown",
   "id": "4e51ad5d",
   "metadata": {},
   "source": [
    "https://www.geeksforgeeks.org/find-the-nearest-value-and-the-index-of-numpy-array/"
   ]
  },
  {
   "cell_type": "code",
   "execution_count": null,
   "id": "46ce8c05",
   "metadata": {},
   "outputs": [],
   "source": [
    "rds = rioxarray.open_rasterio('./r50.0_tile7.tif')\n",
    "my_arr = rds.values"
   ]
  },
  {
   "cell_type": "code",
   "execution_count": null,
   "id": "c4df7253",
   "metadata": {},
   "outputs": [],
   "source": [
    "my_arr.shape"
   ]
  },
  {
   "cell_type": "code",
   "execution_count": null,
   "id": "5769dd56",
   "metadata": {},
   "outputs": [],
   "source": [
    "yheight = my_arr.shape[1]"
   ]
  },
  {
   "cell_type": "code",
   "execution_count": null,
   "id": "6f7174b2",
   "metadata": {},
   "outputs": [],
   "source": [
    "xwidth = my_arr.shape[2]"
   ]
  },
  {
   "cell_type": "code",
   "execution_count": null,
   "id": "ebc17913",
   "metadata": {},
   "outputs": [],
   "source": [
    "! rio info ./r50.0_tile7.tif"
   ]
  },
  {
   "cell_type": "code",
   "execution_count": null,
   "id": "d7b14270",
   "metadata": {},
   "outputs": [],
   "source": [
    "import numpy as np\n",
    "iam_broke = False\n",
    "for y in range(0,yheight):\n",
    "    for x in range(0,xwidth):\n",
    "        if np.isnan(my_arr[0][y,x]):\n",
    "            print(y,x)\n",
    "            y_index = y\n",
    "            x_index = x\n",
    "            iam_broke = True\n",
    "            break\n",
    "    if iam_broke:\n",
    "        break\n",
    "    "
   ]
  },
  {
   "cell_type": "code",
   "execution_count": null,
   "id": "cd68d3f4",
   "metadata": {},
   "outputs": [],
   "source": [
    "for x in range(x_index,x_index+1220):\n",
    "    for y in range(y_index,y_index+1230):\n",
    "        my_arr[0][y,x] = 250\n",
    "        \n",
    "rds[:] = my_arr\n",
    "\n",
    "rds.hvplot.image(rasterize=True,  x='x', y='y', width=500, height=400, cmap='viridis', clim=(1,255))"
   ]
  },
  {
   "cell_type": "code",
   "execution_count": null,
   "id": "d0ff9477",
   "metadata": {},
   "outputs": [],
   "source": [
    "for x in range(x_index,x_index+1220):\n",
    "    for y in range(y_index,y_index+1230):\n",
    "        my_arr[0][y,x] = int(y/250*25)\n",
    "        \n",
    "rds[:] = my_arr\n",
    "\n",
    "rds.hvplot.image(rasterize=True,  x='x', y='y', width=500, height=400, cmap='viridis', clim=(1,255))"
   ]
  },
  {
   "cell_type": "code",
   "execution_count": null,
   "id": "f1222320",
   "metadata": {},
   "outputs": [],
   "source": [
    "rds1.hvplot.image(rasterize=True,  x='x', y='y', width=500, height=400, cmap='viridis', clim=(1,255))"
   ]
  },
  {
   "cell_type": "code",
   "execution_count": null,
   "id": "3580675e",
   "metadata": {},
   "outputs": [],
   "source": [
    "best_arr = rds1.values"
   ]
  },
  {
   "cell_type": "code",
   "execution_count": null,
   "id": "b43dd47a",
   "metadata": {},
   "outputs": [],
   "source": [
    "for x in range(x_index,x_index+1220):\n",
    "    for y in range(y_index,y_index+1230):\n",
    "        my_arr[0][y,x] = best_arr[0][y,x]\n",
    "        \n",
    "rds[:] = my_arr\n",
    "\n",
    "rds.hvplot.image(rasterize=True,  x='x', y='y', width=500, height=400, cmap='viridis', clim=(1,255))"
   ]
  },
  {
   "cell_type": "code",
   "execution_count": null,
   "id": "5428e1ba",
   "metadata": {},
   "outputs": [],
   "source": [
    "!aws s3 ls ws-out/good/"
   ]
  },
  {
   "cell_type": "code",
   "execution_count": null,
   "id": "afcfd72d",
   "metadata": {},
   "outputs": [],
   "source": [
    "bigds = rioxarray.open_rasterio('s3://ws-out/good/etasw_202005.tif')"
   ]
  },
  {
   "cell_type": "code",
   "execution_count": null,
   "id": "a8b04c96",
   "metadata": {},
   "outputs": [],
   "source": [
    "bigds"
   ]
  },
  {
   "cell_type": "code",
   "execution_count": null,
   "id": "e056ac66",
   "metadata": {},
   "outputs": [],
   "source": [
    "big_arr = bigds.values"
   ]
  },
  {
   "cell_type": "code",
   "execution_count": null,
   "id": "d7e0cdb0",
   "metadata": {},
   "outputs": [],
   "source": [
    "yheight = big_arr.shape[1]\n",
    "yheight"
   ]
  },
  {
   "cell_type": "code",
   "execution_count": null,
   "id": "e9c307a0",
   "metadata": {},
   "outputs": [],
   "source": [
    "xwidth = big_arr.shape[2]\n",
    "xwidth"
   ]
  },
  {
   "cell_type": "code",
   "execution_count": null,
   "id": "bc298ac5",
   "metadata": {},
   "outputs": [],
   "source": [
    "import numpy as np\n",
    "iam_broke = False\n",
    "for y in range(0,yheight):\n",
    "    for x in range(0,xwidth):\n",
    "        if np.isnan(big_arr[0][y,x]):\n",
    "            print(y,x)\n",
    "            by_index = y\n",
    "            bx_index = x\n",
    "            iam_broke = True\n",
    "            break\n",
    "    if iam_broke:\n",
    "        break"
   ]
  },
  {
   "cell_type": "code",
   "execution_count": null,
   "id": "1fb3b81a",
   "metadata": {},
   "outputs": [],
   "source": [
    "!aws s3 cp s3://ws-out/good/gridmeister.py ."
   ]
  },
  {
   "cell_type": "code",
   "execution_count": null,
   "id": "31cc66f3",
   "metadata": {},
   "outputs": [],
   "source": [
    "import sys\n",
    "sys.path.append('.')"
   ]
  },
  {
   "cell_type": "code",
   "execution_count": null,
   "id": "8b9d5b1d",
   "metadata": {},
   "outputs": [],
   "source": [
    "! cat gridmeister.py"
   ]
  },
  {
   "cell_type": "code",
   "execution_count": null,
   "id": "fa8ce36d",
   "metadata": {},
   "outputs": [],
   "source": [
    "! ls tile_aoi"
   ]
  },
  {
   "cell_type": "code",
   "execution_count": null,
   "id": "74cc0082",
   "metadata": {},
   "outputs": [],
   "source": [
    "tile_name = 'r50.0_tile7'\n",
    "geojson_file = f'./tile_aoi/{tile_name}.geojson'"
   ]
  },
  {
   "cell_type": "code",
   "execution_count": null,
   "id": "881e32f8",
   "metadata": {},
   "outputs": [],
   "source": [
    "from gridmeister import GridMeisterTile"
   ]
  },
  {
   "cell_type": "code",
   "execution_count": null,
   "id": "94dc5fac",
   "metadata": {},
   "outputs": [],
   "source": [
    "import geopandas as gpd\n",
    "def return_geojson_extent(geojson_file):\n",
    "    my_geo = gpd.read_file(geojson_file)\n",
    "    smallest_extent = my_geo.geometry[0].bounds\n",
    "    return(smallest_extent)\n",
    "    pass\n"
   ]
  },
  {
   "cell_type": "code",
   "execution_count": null,
   "id": "4ccbf098",
   "metadata": {},
   "outputs": [],
   "source": [
    "smallest_extent = return_geojson_extent(geojson_file)"
   ]
  },
  {
   "cell_type": "code",
   "execution_count": null,
   "id": "905ac174",
   "metadata": {},
   "outputs": [],
   "source": [
    "smallest_extent"
   ]
  },
  {
   "cell_type": "code",
   "execution_count": null,
   "id": "08b9a981",
   "metadata": {},
   "outputs": [],
   "source": [
    "divisor=5\n",
    "tile='./chips/' + tile_name\n",
    "gm = GridMeisterTile(tile, smallest_extent, divisor)"
   ]
  },
  {
   "cell_type": "code",
   "execution_count": null,
   "id": "26ffe8e8",
   "metadata": {},
   "outputs": [],
   "source": [
    "lst = gm.chip_list()"
   ]
  },
  {
   "cell_type": "code",
   "execution_count": null,
   "id": "948b9e30",
   "metadata": {},
   "outputs": [],
   "source": [
    "! mkdir -p ./AOI"
   ]
  },
  {
   "cell_type": "code",
   "execution_count": null,
   "id": "f8de85e8",
   "metadata": {},
   "outputs": [],
   "source": [
    "for l in lst:\n",
    "    gm.create_chip_shp(l)"
   ]
  },
  {
   "cell_type": "code",
   "execution_count": null,
   "id": "19d6e720",
   "metadata": {},
   "outputs": [],
   "source": [
    "! ls ./AOI"
   ]
  },
  {
   "cell_type": "code",
   "execution_count": null,
   "id": "28edbfd9",
   "metadata": {},
   "outputs": [],
   "source": [
    "my_geo = './AOI/chip42.2N-93.8E.json'"
   ]
  },
  {
   "cell_type": "code",
   "execution_count": null,
   "id": "aa010627",
   "metadata": {},
   "outputs": [],
   "source": [
    "rds1.hvplot.image(rasterize=True,  x='x', y='y', width=500, height=400, cmap='viridis', clim=(1,255))"
   ]
  },
  {
   "cell_type": "code",
   "execution_count": null,
   "id": "20919afb",
   "metadata": {},
   "outputs": [],
   "source": [
    "from shapely.geometry import mapping\n",
    "\n",
    "def make_geom(aoi_filename):\n",
    "    '''creates a geom/Polygon/Coordinates - bbox - from an geojson file'''\n",
    "    # read in AOI as a GeoDataFrame\n",
    "    aoi = gpd.read_file(aoi_filename)\n",
    "\n",
    "    # get the geometry of the AOI as a dictionary for use with PySTAC Client\n",
    "    geom = mapping(aoi.to_dict()['geometry'][0])\n",
    "    return geom"
   ]
  },
  {
   "cell_type": "code",
   "execution_count": null,
   "id": "f96b14de",
   "metadata": {},
   "outputs": [],
   "source": [
    "geom=make_geom(my_geo)"
   ]
  },
  {
   "cell_type": "code",
   "execution_count": null,
   "id": "6263b809",
   "metadata": {},
   "outputs": [],
   "source": [
    "geom"
   ]
  },
  {
   "cell_type": "code",
   "execution_count": null,
   "id": "0ed103ed",
   "metadata": {},
   "outputs": [],
   "source": [
    "my_ds = rds1.rio.clip([geom], crs='epsg:4326')"
   ]
  },
  {
   "cell_type": "code",
   "execution_count": null,
   "id": "a48f14f3",
   "metadata": {},
   "outputs": [],
   "source": [
    "my_ds.hvplot.image(rasterize=True,  x='x', y='y', width=500, height=400, cmap='viridis', clim=(1,255))"
   ]
  },
  {
   "cell_type": "code",
   "execution_count": null,
   "id": "40ed360f",
   "metadata": {},
   "outputs": [],
   "source": [
    "my_patch_arr = my_ds.values"
   ]
  },
  {
   "cell_type": "code",
   "execution_count": null,
   "id": "249d4c5a",
   "metadata": {},
   "outputs": [],
   "source": [
    "my_patch_arr.shape"
   ]
  },
  {
   "cell_type": "code",
   "execution_count": null,
   "id": "cbe76c66",
   "metadata": {},
   "outputs": [],
   "source": [
    "patch_yheight=my_patch_arr.shape[1]\n",
    "patch_xwidth=my_patch_arr.shape[2]"
   ]
  },
  {
   "cell_type": "code",
   "execution_count": null,
   "id": "fd0a80c2",
   "metadata": {},
   "outputs": [],
   "source": [
    "bigds.x"
   ]
  },
  {
   "cell_type": "code",
   "execution_count": null,
   "id": "5f6e82a4",
   "metadata": {},
   "outputs": [],
   "source": [
    "bigds.y"
   ]
  },
  {
   "cell_type": "code",
   "execution_count": null,
   "id": "3152ae1e",
   "metadata": {},
   "outputs": [],
   "source": [
    "import numpy as np\n",
    "\n",
    "def get_xy_index(xfind, yfind, xlons, ylats):\n",
    "    arr = xlons\n",
    "    print(\"Array is : \", arr)\n",
    "\n",
    "    # element to which nearest value is to be found\n",
    "    x = xfind\n",
    "    print(\"Value to which nearest element is to be found: \", x)\n",
    "\n",
    "    # calculate the difference array\n",
    "    difference_array = np.absolute(arr-x)\n",
    "\n",
    "    # find the index of minimum element from the array\n",
    "    index = difference_array.argmin()\n",
    "    print(\"Nearest element to the given values is : \", arr[index])\n",
    "    print(\"Index of nearest value is : \", index)\n",
    "    x_index = index\n",
    "    \n",
    "    arr = ylats\n",
    "    print(\"Array is : \", arr)\n",
    "  \n",
    "    # element to which nearest value is to be found\n",
    "    x = yfind\n",
    "    print(\"Value to which nearest element is to be found: \", x)\n",
    "\n",
    "    # calculate the difference array\n",
    "    difference_array = np.absolute(arr-x)\n",
    "\n",
    "    # find the index of minimum element from the array\n",
    "    index = difference_array.argmin()\n",
    "    print(\"Nearest element to the given values is : \", arr[index])\n",
    "    print(\"Index of nearest value is : \", index)\n",
    "    y_index = index\n",
    "\n",
    "    return(x_index, y_index)\n"
   ]
  },
  {
   "cell_type": "code",
   "execution_count": null,
   "id": "5c8373be",
   "metadata": {},
   "outputs": [],
   "source": [
    "xfind=-91.262\n",
    "yfind=39.74\n",
    "xlons = bigds.x.values\n",
    "ylats = bigds.y.values\n",
    "x_index,y_index = get_xy_index(xfind, yfind, xlons, ylats)"
   ]
  },
  {
   "cell_type": "code",
   "execution_count": null,
   "id": "96fdd424",
   "metadata": {},
   "outputs": [],
   "source": [
    "geom['coordinates']"
   ]
  },
  {
   "cell_type": "code",
   "execution_count": null,
   "id": "cd16e177",
   "metadata": {},
   "outputs": [],
   "source": [
    "ll = geom['coordinates'][0][3]"
   ]
  },
  {
   "cell_type": "code",
   "execution_count": null,
   "id": "f3df8396",
   "metadata": {},
   "outputs": [],
   "source": [
    "xfind = ll[0]\n",
    "xfind"
   ]
  },
  {
   "cell_type": "code",
   "execution_count": null,
   "id": "549c24bb",
   "metadata": {},
   "outputs": [],
   "source": [
    "yfind = ll[1]\n",
    "yfind"
   ]
  },
  {
   "cell_type": "code",
   "execution_count": null,
   "id": "9ec04c82",
   "metadata": {},
   "outputs": [],
   "source": [
    "xlons = bigds.x.values\n",
    "ylats = bigds.y.values\n",
    "x_index,y_index = get_xy_index(xfind, yfind, xlons, ylats)"
   ]
  },
  {
   "cell_type": "code",
   "execution_count": null,
   "id": "32da037c",
   "metadata": {},
   "outputs": [],
   "source": [
    "x_index,y_index"
   ]
  },
  {
   "cell_type": "code",
   "execution_count": null,
   "id": "ed270dbc",
   "metadata": {},
   "outputs": [],
   "source": [
    "yp=0\n",
    "for y in range(y_index,y_index+patch_yheight):\n",
    "    xp=0\n",
    "    for x in range(x_index,x_index+patch_xwidth):\n",
    "        my_yp = y-y_index\n",
    "        my_xp = x-x_index\n",
    "        #big_arr[0][y,x] = my_patch_arr[0][yp,xp]\n",
    "        big_arr[0][y,x] = my_patch_arr[0][my_yp,my_xp]\n",
    "        #big_arr[0][y,x] = 88 \n",
    "        #print(xp)\n",
    "        xp=xp+1\n",
    "    yp+yp+1\n",
    "        \n",
    "bigds[:] = big_arr\n",
    "\n",
    "subset1 = bigds.isel(x=slice(0,49000,10), y=slice(0,25000,10))\n",
    "bigds.hvplot.image(rasterize=True,  x='x', y='y', width=900, height=400, cmap='viridis', clim=(1,255))"
   ]
  },
  {
   "cell_type": "code",
   "execution_count": null,
   "id": "db21b10c",
   "metadata": {},
   "outputs": [],
   "source": [
    "my_patch_arr"
   ]
  },
  {
   "cell_type": "code",
   "execution_count": null,
   "id": "0b495c56",
   "metadata": {},
   "outputs": [],
   "source": []
  }
 ],
 "metadata": {
  "kernelspec": {
   "display_name": "Python 3 (ipykernel)",
   "language": "python",
   "name": "python3"
  },
  "language_info": {
   "codemirror_mode": {
    "name": "ipython",
    "version": 3
   },
   "file_extension": ".py",
   "mimetype": "text/x-python",
   "name": "python",
   "nbconvert_exporter": "python",
   "pygments_lexer": "ipython3",
   "version": "3.9.7"
  }
 },
 "nbformat": 4,
 "nbformat_minor": 5
}
